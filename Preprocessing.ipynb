{
 "cells": [
  {
   "cell_type": "code",
   "execution_count": null,
   "metadata": {},
   "outputs": [],
   "source": [
    "import numpy as np\n",
    "import json\n",
    "import time\n",
    "import pickle\n",
    "import sys\n",
    "import nltk\n",
    "from nltk import word_tokenize, pos_tag\n",
    "from nltk.stem import WordNetLemmatizer\n",
    "import unicodedata\n",
    "import json\n",
    "from pprint import pprint"
   ]
  },
  {
   "cell_type": "code",
   "execution_count": null,
   "metadata": {},
   "outputs": [],
   "source": [
    "with open('train-v2.0.json') as f:\n",
    "    data = json.load(f)"
   ]
  },
  {
   "cell_type": "code",
   "execution_count": null,
   "metadata": {},
   "outputs": [],
   "source": [
    "nltk.download('punkt')"
   ]
  },
  {
   "cell_type": "code",
   "execution_count": null,
   "metadata": {},
   "outputs": [],
   "source": [
    "nltk.download('averaged_perceptron_tagger')"
   ]
  },
  {
   "cell_type": "code",
   "execution_count": null,
   "metadata": {},
   "outputs": [],
   "source": [
    "vocab=set()"
   ]
  },
  {
   "cell_type": "code",
   "execution_count": null,
   "metadata": {},
   "outputs": [],
   "source": [
    "def preprocess(sentence):\n",
    "    wnl = WordNetLemmatizer()\n",
    "    temp = pos_tag(word_tokenize(sentence.lower()))\n",
    "    y = []\n",
    "    x = []\n",
    "    count=0\n",
    "    for i,j in temp:\n",
    "        y.append(count)\n",
    "        if i==u'``' or i==u\"''\":\n",
    "            x.append('\"')\n",
    "            count+=1\n",
    "        else:\n",
    "            if j[0].lower() in ['a','n','v']:\n",
    "                temp_i = wnl.lemmatize(i,j[0].lower())\n",
    "                x.append(unicodedata.normalize('NFKD', temp_i).encode('ascii','ignore'))\n",
    "            else:\n",
    "                temp_i = wnl.lemmatize(i)\n",
    "                x.append(unicodedata.normalize('NFKD', temp_i).encode('ascii','ignore'))\n",
    "            count+=len(i)\n",
    "        while count<len(sentence) and sentence[count]==' ':\n",
    "            count+=1\n",
    "        for k in range(len(x[-1])):\n",
    "            vocab.add(x[-1][k])\n",
    "    return x, y\n",
    "def create_dataset(data):\n",
    "    data_map = []\n",
    "    errors = 0\n",
    "    for i in data['data']:\n",
    "        for j in i['paragraphs']:\n",
    "            context,idx = preprocess(j['context'])\n",
    "#             for x in range(len(idx)-1):\n",
    "#                 print idx[x], j['context'][idx[x]:idx[x+1]]\n",
    "#             print context\n",
    "#             print idx\n",
    "            for k in j['qas']:\n",
    "                temp = {}\n",
    "                qas,_ = preprocess(k['question'])\n",
    "                temp['title']=i['title']\n",
    "                temp['context']=context\n",
    "                temp['question']=qas\n",
    "                temp['is_impossible']=k['is_impossible']\n",
    "                \n",
    "                if k['is_impossible']:\n",
    "                    if len(k['plausible_answers'])==0:\n",
    "                        continue\n",
    "                    ans_temp = k['plausible_answers'][0]\n",
    "                else:\n",
    "                    if len(k['answers'])==0:\n",
    "                        continue\n",
    "                    ans_temp = k['answers'][0]\n",
    "                ans,_ = preprocess(ans_temp['text'])\n",
    "                try:\n",
    "                    temp['answer_start']=idx.index(ans_temp['answer_start'])\n",
    "                    temp['answer_end']=idx.index(ans_temp['answer_start'])+len(ans)\n",
    "                    temp['answer']=ans_temp['text']\n",
    "                    data_map.append(temp)\n",
    "                except:\n",
    "                    errors+=1\n",
    "                    temp['answer_start']=-1\n",
    "                    temp['answer_end']=-1\n",
    "                    temp['answer']=ans_temp['text']\n",
    "                    data_map.append(temp)\n",
    "    print \"Errors=\"+str(errors)\n",
    "    return data_map"
   ]
  },
  {
   "cell_type": "code",
   "execution_count": null,
   "metadata": {},
   "outputs": [],
   "source": [
    "%%time\n",
    "t = create_dataset(data)"
   ]
  },
  {
   "cell_type": "code",
   "execution_count": null,
   "metadata": {},
   "outputs": [],
   "source": [
    "vocab"
   ]
  },
  {
   "cell_type": "code",
   "execution_count": null,
   "metadata": {},
   "outputs": [],
   "source": [
    "d = {'data': t}\n",
    "json.dump(d, open(\"train_data.json\",\"w\"))"
   ]
  },
  {
   "cell_type": "code",
   "execution_count": null,
   "metadata": {},
   "outputs": [],
   "source": [
    "with open('dev-v2.0.json') as f:\n",
    "    dev = json.load(f)"
   ]
  },
  {
   "cell_type": "code",
   "execution_count": null,
   "metadata": {},
   "outputs": [],
   "source": [
    "%%time\n",
    "test_d = create_dataset(dev)"
   ]
  },
  {
   "cell_type": "code",
   "execution_count": null,
   "metadata": {},
   "outputs": [],
   "source": [
    "d = {'data': test_d}\n",
    "json.dump(d, open(\"test_data.json\",\"w\"))"
   ]
  },
  {
   "cell_type": "code",
   "execution_count": null,
   "metadata": {},
   "outputs": [],
   "source": [
    "with open(\"vocab.pkl\",\"wb\") as f:\n",
    "    pickle.dump(list(vocab), f)"
   ]
  },
  {
   "cell_type": "code",
   "execution_count": null,
   "metadata": {},
   "outputs": [],
   "source": []
  }
 ],
 "metadata": {
  "kernelspec": {
   "display_name": "Python 2",
   "language": "python",
   "name": "python2"
  },
  "language_info": {
   "codemirror_mode": {
    "name": "ipython",
    "version": 2
   },
   "file_extension": ".py",
   "mimetype": "text/x-python",
   "name": "python",
   "nbconvert_exporter": "python",
   "pygments_lexer": "ipython2",
   "version": "2.7.15"
  }
 },
 "nbformat": 4,
 "nbformat_minor": 2
}
